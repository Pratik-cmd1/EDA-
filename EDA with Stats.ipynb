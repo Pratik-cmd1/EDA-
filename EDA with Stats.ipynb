{
 "cells": [
  {
   "cell_type": "markdown",
   "id": "1fc92d8e-8ee9-4c31-b8c9-eeee9462bd1d",
   "metadata": {},
   "source": [
    "### Problem Statement : Find out rating for a employees on the basis on different features\n",
    "\n"
   ]
  },
  {
   "cell_type": "raw",
   "id": "84347c52-7407-45af-b6b5-2e03ca2fcf3f",
   "metadata": {},
   "source": [
    "Independant Features : \n",
    "Age\n",
    "Salary\n",
    "Department\n",
    "Years_of_Experience\t\n",
    "\n",
    "Dependant Feature/ Target Column :\n",
    "Rating"
   ]
  },
  {
   "cell_type": "markdown",
   "id": "a8802356-0700-4aa8-acdc-5f310b782498",
   "metadata": {},
   "source": [
    "#### import liabraries"
   ]
  },
  {
   "cell_type": "code",
   "execution_count": 3,
   "id": "3a1b74fa-be8b-4d6b-9513-5c2ccccc6d7c",
   "metadata": {},
   "outputs": [],
   "source": [
    "import numpy as np\n",
    "import pandas as pd\n",
    "from scipy.stats import mode\n",
    "from scipy import stats\n",
    "import matplotlib as plt\n",
    "import seaborn as sns\n",
    "from sklearn.model_selection import train_test_split"
   ]
  },
  {
   "cell_type": "markdown",
   "id": "e5494f85-5dfc-4075-8eb1-97ebe21517c1",
   "metadata": {},
   "source": [
    "#### Data Gathering"
   ]
  },
  {
   "cell_type": "markdown",
   "id": "a7676b24",
   "metadata": {},
   "source": [
    "##### 1. Load Given data and convert it into pandas df"
   ]
  },
  {
   "cell_type": "code",
   "execution_count": 6,
   "id": "385508b7",
   "metadata": {},
   "outputs": [
    {
     "data": {
      "text/html": [
       "<div>\n",
       "<style scoped>\n",
       "    .dataframe tbody tr th:only-of-type {\n",
       "        vertical-align: middle;\n",
       "    }\n",
       "\n",
       "    .dataframe tbody tr th {\n",
       "        vertical-align: top;\n",
       "    }\n",
       "\n",
       "    .dataframe thead th {\n",
       "        text-align: right;\n",
       "    }\n",
       "</style>\n",
       "<table border=\"1\" class=\"dataframe\">\n",
       "  <thead>\n",
       "    <tr style=\"text-align: right;\">\n",
       "      <th></th>\n",
       "      <th>Age</th>\n",
       "      <th>Salary</th>\n",
       "      <th>Department</th>\n",
       "      <th>Years_of_Experience</th>\n",
       "      <th>Rating</th>\n",
       "    </tr>\n",
       "  </thead>\n",
       "  <tbody>\n",
       "    <tr>\n",
       "      <th>0</th>\n",
       "      <td>56</td>\n",
       "      <td>47981.538943</td>\n",
       "      <td>Sales</td>\n",
       "      <td>NaN</td>\n",
       "      <td>5</td>\n",
       "    </tr>\n",
       "    <tr>\n",
       "      <th>1</th>\n",
       "      <td>46</td>\n",
       "      <td>63977.223746</td>\n",
       "      <td>Marketing</td>\n",
       "      <td>4.0</td>\n",
       "      <td>4</td>\n",
       "    </tr>\n",
       "    <tr>\n",
       "      <th>2</th>\n",
       "      <td>32</td>\n",
       "      <td>47051.027751</td>\n",
       "      <td>Marketing</td>\n",
       "      <td>4.0</td>\n",
       "      <td>3</td>\n",
       "    </tr>\n",
       "    <tr>\n",
       "      <th>3</th>\n",
       "      <td>25</td>\n",
       "      <td>40763.986716</td>\n",
       "      <td>IT</td>\n",
       "      <td>2.0</td>\n",
       "      <td>4</td>\n",
       "    </tr>\n",
       "    <tr>\n",
       "      <th>4</th>\n",
       "      <td>38</td>\n",
       "      <td>NaN</td>\n",
       "      <td>Marketing</td>\n",
       "      <td>2.0</td>\n",
       "      <td>5</td>\n",
       "    </tr>\n",
       "    <tr>\n",
       "      <th>...</th>\n",
       "      <td>...</td>\n",
       "      <td>...</td>\n",
       "      <td>...</td>\n",
       "      <td>...</td>\n",
       "      <td>...</td>\n",
       "    </tr>\n",
       "    <tr>\n",
       "      <th>95</th>\n",
       "      <td>59</td>\n",
       "      <td>53994.709286</td>\n",
       "      <td>Marketing</td>\n",
       "      <td>NaN</td>\n",
       "      <td>1</td>\n",
       "    </tr>\n",
       "    <tr>\n",
       "      <th>96</th>\n",
       "      <td>56</td>\n",
       "      <td>41729.669474</td>\n",
       "      <td>Sales</td>\n",
       "      <td>2.0</td>\n",
       "      <td>2</td>\n",
       "    </tr>\n",
       "    <tr>\n",
       "      <th>97</th>\n",
       "      <td>58</td>\n",
       "      <td>64546.068106</td>\n",
       "      <td>Marketing</td>\n",
       "      <td>3.0</td>\n",
       "      <td>5</td>\n",
       "    </tr>\n",
       "    <tr>\n",
       "      <th>98</th>\n",
       "      <td>45</td>\n",
       "      <td>24900.803964</td>\n",
       "      <td>HR</td>\n",
       "      <td>NaN</td>\n",
       "      <td>2</td>\n",
       "    </tr>\n",
       "    <tr>\n",
       "      <th>99</th>\n",
       "      <td>24</td>\n",
       "      <td>20363.613619</td>\n",
       "      <td>HR</td>\n",
       "      <td>4.0</td>\n",
       "      <td>2</td>\n",
       "    </tr>\n",
       "  </tbody>\n",
       "</table>\n",
       "<p>100 rows × 5 columns</p>\n",
       "</div>"
      ],
      "text/plain": [
       "    Age        Salary Department  Years_of_Experience  Rating\n",
       "0    56  47981.538943      Sales                  NaN       5\n",
       "1    46  63977.223746  Marketing                  4.0       4\n",
       "2    32  47051.027751  Marketing                  4.0       3\n",
       "3    25  40763.986716         IT                  2.0       4\n",
       "4    38           NaN  Marketing                  2.0       5\n",
       "..  ...           ...        ...                  ...     ...\n",
       "95   59  53994.709286  Marketing                  NaN       1\n",
       "96   56  41729.669474      Sales                  2.0       2\n",
       "97   58  64546.068106  Marketing                  3.0       5\n",
       "98   45  24900.803964         HR                  NaN       2\n",
       "99   24  20363.613619         HR                  4.0       2\n",
       "\n",
       "[100 rows x 5 columns]"
      ]
     },
     "execution_count": 6,
     "metadata": {},
     "output_type": "execute_result"
    }
   ],
   "source": [
    "df=pd.read_csv(\"Emp Rating Data.csv\")\n",
    "df"
   ]
  },
  {
   "cell_type": "markdown",
   "id": "1fc20b63-580e-4c55-9bf3-a28e6146f4eb",
   "metadata": {},
   "source": [
    "#### Exploratory Data Analysis (EDA) with statistics "
   ]
  },
  {
   "cell_type": "markdown",
   "id": "857240d1",
   "metadata": {},
   "source": [
    "##### 2. Check for the shape, size, info, stats"
   ]
  },
  {
   "cell_type": "code",
   "execution_count": 7,
   "id": "d271d469",
   "metadata": {},
   "outputs": [
    {
     "data": {
      "text/plain": [
       "(100, 5)"
      ]
     },
     "execution_count": 7,
     "metadata": {},
     "output_type": "execute_result"
    }
   ],
   "source": [
    "df.shape"
   ]
  },
  {
   "cell_type": "code",
   "execution_count": 9,
   "id": "a11ca421-2a27-458a-9e7a-bb7deef9fa7a",
   "metadata": {},
   "outputs": [
    {
     "data": {
      "text/plain": [
       "500"
      ]
     },
     "execution_count": 9,
     "metadata": {},
     "output_type": "execute_result"
    }
   ],
   "source": [
    "df.size"
   ]
  },
  {
   "cell_type": "code",
   "execution_count": 11,
   "id": "764c8b26",
   "metadata": {},
   "outputs": [
    {
     "name": "stdout",
     "output_type": "stream",
     "text": [
      "<class 'pandas.core.frame.DataFrame'>\n",
      "RangeIndex: 100 entries, 0 to 99\n",
      "Data columns (total 5 columns):\n",
      " #   Column               Non-Null Count  Dtype  \n",
      "---  ------               --------------  -----  \n",
      " 0   Age                  100 non-null    int64  \n",
      " 1   Salary               93 non-null     float64\n",
      " 2   Department           100 non-null    object \n",
      " 3   Years_of_Experience  95 non-null     float64\n",
      " 4   Rating               100 non-null    int64  \n",
      "dtypes: float64(2), int64(2), object(1)\n",
      "memory usage: 4.0+ KB\n"
     ]
    }
   ],
   "source": [
    "df.info()"
   ]
  },
  {
   "cell_type": "code",
   "execution_count": 13,
   "id": "f51e2abe-f607-4f68-8994-dbbc519cee38",
   "metadata": {},
   "outputs": [
    {
     "data": {
      "text/html": [
       "<div>\n",
       "<style scoped>\n",
       "    .dataframe tbody tr th:only-of-type {\n",
       "        vertical-align: middle;\n",
       "    }\n",
       "\n",
       "    .dataframe tbody tr th {\n",
       "        vertical-align: top;\n",
       "    }\n",
       "\n",
       "    .dataframe thead th {\n",
       "        text-align: right;\n",
       "    }\n",
       "</style>\n",
       "<table border=\"1\" class=\"dataframe\">\n",
       "  <thead>\n",
       "    <tr style=\"text-align: right;\">\n",
       "      <th></th>\n",
       "      <th>Age</th>\n",
       "      <th>Salary</th>\n",
       "      <th>Years_of_Experience</th>\n",
       "      <th>Rating</th>\n",
       "    </tr>\n",
       "  </thead>\n",
       "  <tbody>\n",
       "    <tr>\n",
       "      <th>count</th>\n",
       "      <td>100.000000</td>\n",
       "      <td>93.000000</td>\n",
       "      <td>95.000000</td>\n",
       "      <td>100.00000</td>\n",
       "    </tr>\n",
       "    <tr>\n",
       "      <th>mean</th>\n",
       "      <td>37.910000</td>\n",
       "      <td>50081.617728</td>\n",
       "      <td>2.978947</td>\n",
       "      <td>3.13000</td>\n",
       "    </tr>\n",
       "    <tr>\n",
       "      <th>std</th>\n",
       "      <td>12.219454</td>\n",
       "      <td>12107.897382</td>\n",
       "      <td>0.798655</td>\n",
       "      <td>1.44708</td>\n",
       "    </tr>\n",
       "    <tr>\n",
       "      <th>min</th>\n",
       "      <td>18.000000</td>\n",
       "      <td>20014.890300</td>\n",
       "      <td>2.000000</td>\n",
       "      <td>1.00000</td>\n",
       "    </tr>\n",
       "    <tr>\n",
       "      <th>25%</th>\n",
       "      <td>26.750000</td>\n",
       "      <td>41729.669474</td>\n",
       "      <td>2.000000</td>\n",
       "      <td>2.00000</td>\n",
       "    </tr>\n",
       "    <tr>\n",
       "      <th>50%</th>\n",
       "      <td>38.000000</td>\n",
       "      <td>49671.482653</td>\n",
       "      <td>3.000000</td>\n",
       "      <td>3.00000</td>\n",
       "    </tr>\n",
       "    <tr>\n",
       "      <th>75%</th>\n",
       "      <td>46.250000</td>\n",
       "      <td>58733.997370</td>\n",
       "      <td>4.000000</td>\n",
       "      <td>4.25000</td>\n",
       "    </tr>\n",
       "    <tr>\n",
       "      <th>max</th>\n",
       "      <td>59.000000</td>\n",
       "      <td>75904.742280</td>\n",
       "      <td>4.000000</td>\n",
       "      <td>5.00000</td>\n",
       "    </tr>\n",
       "  </tbody>\n",
       "</table>\n",
       "</div>"
      ],
      "text/plain": [
       "              Age        Salary  Years_of_Experience     Rating\n",
       "count  100.000000     93.000000            95.000000  100.00000\n",
       "mean    37.910000  50081.617728             2.978947    3.13000\n",
       "std     12.219454  12107.897382             0.798655    1.44708\n",
       "min     18.000000  20014.890300             2.000000    1.00000\n",
       "25%     26.750000  41729.669474             2.000000    2.00000\n",
       "50%     38.000000  49671.482653             3.000000    3.00000\n",
       "75%     46.250000  58733.997370             4.000000    4.25000\n",
       "max     59.000000  75904.742280             4.000000    5.00000"
      ]
     },
     "execution_count": 13,
     "metadata": {},
     "output_type": "execute_result"
    }
   ],
   "source": [
    "df.describe()"
   ]
  },
  {
   "cell_type": "markdown",
   "id": "ff9f2dea",
   "metadata": {},
   "source": [
    "##### 3. Check the data types of all columns in the dataset also change datatype of Salary to float and Years_of_Experience to int"
   ]
  },
  {
   "cell_type": "code",
   "execution_count": 27,
   "id": "128fca0d",
   "metadata": {},
   "outputs": [
    {
     "data": {
      "text/plain": [
       "Age                      int64\n",
       "Salary                 float64\n",
       "Department              object\n",
       "Years_of_Experience    float64\n",
       "Rating                   int64\n",
       "dtype: object"
      ]
     },
     "execution_count": 27,
     "metadata": {},
     "output_type": "execute_result"
    }
   ],
   "source": [
    "df.dtypes"
   ]
  },
  {
   "cell_type": "code",
   "execution_count": 29,
   "id": "8a6a3dad-2744-470f-8531-4524646a456b",
   "metadata": {},
   "outputs": [],
   "source": [
    "df[\"Years_of_Experience\"]=df[\"Years_of_Experience\"].astype(int)"
   ]
  },
  {
   "cell_type": "code",
   "execution_count": 31,
   "id": "98f8aaa1",
   "metadata": {},
   "outputs": [
    {
     "data": {
      "text/plain": [
       "Age                      int64\n",
       "Salary                 float64\n",
       "Department              object\n",
       "Years_of_Experience      int32\n",
       "Rating                   int64\n",
       "dtype: object"
      ]
     },
     "execution_count": 31,
     "metadata": {},
     "output_type": "execute_result"
    }
   ],
   "source": [
    "df.dtypes"
   ]
  },
  {
   "cell_type": "markdown",
   "id": "25e4f62d",
   "metadata": {},
   "source": [
    "##### 4. Check for missing values and handle them"
   ]
  },
  {
   "cell_type": "code",
   "execution_count": 18,
   "id": "2fc43a99",
   "metadata": {},
   "outputs": [
    {
     "data": {
      "text/plain": [
       "Age                    0\n",
       "Salary                 0\n",
       "Department             0\n",
       "Years_of_Experience    5\n",
       "Rating                 0\n",
       "dtype: int64"
      ]
     },
     "execution_count": 18,
     "metadata": {},
     "output_type": "execute_result"
    }
   ],
   "source": [
    "df.isna().sum()"
   ]
  },
  {
   "cell_type": "code",
   "execution_count": 20,
   "id": "2573b8d7-48ec-4cae-9285-0d6e888e161b",
   "metadata": {},
   "outputs": [],
   "source": [
    "df['Salary'] = df['Salary'].fillna(df['Salary'].mean())"
   ]
  },
  {
   "cell_type": "code",
   "execution_count": 22,
   "id": "b5dc591a",
   "metadata": {},
   "outputs": [],
   "source": [
    "df['Years_of_Experience'] = df['Years_of_Experience'].fillna(df['Years_of_Experience'].mean())"
   ]
  },
  {
   "cell_type": "code",
   "execution_count": 24,
   "id": "f7ce785d-8b3e-4bbc-b704-f0724f427c5f",
   "metadata": {},
   "outputs": [
    {
     "data": {
      "text/plain": [
       "Age                    0\n",
       "Salary                 0\n",
       "Department             0\n",
       "Years_of_Experience    0\n",
       "Rating                 0\n",
       "dtype: int64"
      ]
     },
     "execution_count": 24,
     "metadata": {},
     "output_type": "execute_result"
    }
   ],
   "source": [
    "df.isna().sum()"
   ]
  },
  {
   "cell_type": "markdown",
   "id": "6d15cbd5",
   "metadata": {},
   "source": [
    "##### 5. Calculate the mean, median, and mode for the Age column"
   ]
  },
  {
   "cell_type": "code",
   "execution_count": 24,
   "id": "6254353c",
   "metadata": {},
   "outputs": [
    {
     "data": {
      "text/plain": [
       "37.91"
      ]
     },
     "execution_count": 24,
     "metadata": {},
     "output_type": "execute_result"
    }
   ],
   "source": [
    "df[\"Age\"].mean()"
   ]
  },
  {
   "cell_type": "code",
   "execution_count": 26,
   "id": "d1dfbc12-30ca-481b-8a26-52bce01a47a4",
   "metadata": {},
   "outputs": [
    {
     "data": {
      "text/plain": [
       "38.0"
      ]
     },
     "execution_count": 26,
     "metadata": {},
     "output_type": "execute_result"
    }
   ],
   "source": [
    "df[\"Age\"].median()"
   ]
  },
  {
   "cell_type": "code",
   "execution_count": 39,
   "id": "384e1393",
   "metadata": {},
   "outputs": [
    {
     "data": {
      "text/plain": [
       "ModeResult(mode=41, count=6)"
      ]
     },
     "execution_count": 39,
     "metadata": {},
     "output_type": "execute_result"
    }
   ],
   "source": [
    "mode_Age=mode(df[\"Age\"])\n",
    "mode_Age"
   ]
  },
  {
   "cell_type": "markdown",
   "id": "e85d9580",
   "metadata": {},
   "source": [
    "##### 6. Calculate the mean, median, and mode for the Salary column"
   ]
  },
  {
   "cell_type": "code",
   "execution_count": 97,
   "id": "6c424d21",
   "metadata": {},
   "outputs": [
    {
     "data": {
      "text/plain": [
       "50081.617727686695"
      ]
     },
     "execution_count": 97,
     "metadata": {},
     "output_type": "execute_result"
    }
   ],
   "source": [
    "df[\"Salary\"].mean()"
   ]
  },
  {
   "cell_type": "code",
   "execution_count": 99,
   "id": "a0fadc26-199a-4fbe-9e9e-dc207b8aed9d",
   "metadata": {},
   "outputs": [
    {
     "data": {
      "text/plain": [
       "50081.617727686695"
      ]
     },
     "execution_count": 99,
     "metadata": {},
     "output_type": "execute_result"
    }
   ],
   "source": [
    "df[\"Salary\"].median()"
   ]
  },
  {
   "cell_type": "code",
   "execution_count": 41,
   "id": "b3a02381",
   "metadata": {},
   "outputs": [
    {
     "data": {
      "text/plain": [
       "ModeResult(mode=50081.617727686695, count=7)"
      ]
     },
     "execution_count": 41,
     "metadata": {},
     "output_type": "execute_result"
    }
   ],
   "source": [
    "mode_Salary=mode(df[\"Salary\"])\n",
    "mode_Salary"
   ]
  },
  {
   "cell_type": "markdown",
   "id": "f1a36134",
   "metadata": {},
   "source": [
    "##### 7. Compute the variance, standard deviation, and range for the Salary column."
   ]
  },
  {
   "cell_type": "code",
   "execution_count": 106,
   "id": "ba65e045",
   "metadata": {},
   "outputs": [
    {
     "data": {
      "text/plain": [
       "136235439.09168765"
      ]
     },
     "execution_count": 106,
     "metadata": {},
     "output_type": "execute_result"
    }
   ],
   "source": [
    "df['Salary'].var()"
   ]
  },
  {
   "cell_type": "code",
   "execution_count": 110,
   "id": "33d35ef7-9303-4c4e-8453-c3249ba364a3",
   "metadata": {},
   "outputs": [
    {
     "data": {
      "text/plain": [
       "11671.993792479829"
      ]
     },
     "execution_count": 110,
     "metadata": {},
     "output_type": "execute_result"
    }
   ],
   "source": [
    "df['Salary'].std()"
   ]
  },
  {
   "cell_type": "code",
   "execution_count": 114,
   "id": "e2e8cfa4",
   "metadata": {},
   "outputs": [
    {
     "data": {
      "text/plain": [
       "55889.85198002178"
      ]
     },
     "execution_count": 114,
     "metadata": {},
     "output_type": "execute_result"
    }
   ],
   "source": [
    "df['Salary'].max() - df['Salary'].min()"
   ]
  },
  {
   "cell_type": "markdown",
   "id": "f5abdd6e",
   "metadata": {},
   "source": [
    "##### 8. Find the covariance between Age and Salary column"
   ]
  },
  {
   "cell_type": "code",
   "execution_count": 43,
   "id": "135e3020",
   "metadata": {},
   "outputs": [],
   "source": [
    "covariance = df[\"Salary\"].cov(df[\"Age\"])"
   ]
  },
  {
   "cell_type": "code",
   "execution_count": 45,
   "id": "eb0aca26-d4b6-4271-b0e3-15602855f6ae",
   "metadata": {},
   "outputs": [
    {
     "data": {
      "text/plain": [
       "25996.64525295493"
      ]
     },
     "execution_count": 45,
     "metadata": {},
     "output_type": "execute_result"
    }
   ],
   "source": [
    "covariance"
   ]
  },
  {
   "cell_type": "markdown",
   "id": "778379b8",
   "metadata": {},
   "source": [
    "##### 9. Find the correlation coefficient between all numerical columns, also visualize it using heatmap"
   ]
  },
  {
   "cell_type": "code",
   "execution_count": 48,
   "id": "ef7d8106",
   "metadata": {},
   "outputs": [],
   "source": [
    "numerical_df = df.select_dtypes(include=['number'])"
   ]
  },
  {
   "cell_type": "code",
   "execution_count": 50,
   "id": "debca84b-3144-4258-adf0-7356c2c0101b",
   "metadata": {},
   "outputs": [
    {
     "ename": "AttributeError",
     "evalue": "module 'matplotlib' has no attribute 'title'",
     "output_type": "error",
     "traceback": [
      "\u001b[1;31m---------------------------------------------------------------------------\u001b[0m",
      "\u001b[1;31mAttributeError\u001b[0m                            Traceback (most recent call last)",
      "Cell \u001b[1;32mIn[50], line 3\u001b[0m\n\u001b[0;32m      1\u001b[0m correlation_matrix \u001b[38;5;241m=\u001b[39m numerical_df\u001b[38;5;241m.\u001b[39mcorr()\n\u001b[0;32m      2\u001b[0m sns\u001b[38;5;241m.\u001b[39mheatmap(correlation_matrix, annot\u001b[38;5;241m=\u001b[39m\u001b[38;5;28;01mTrue\u001b[39;00m)\n\u001b[1;32m----> 3\u001b[0m plt\u001b[38;5;241m.\u001b[39mtitle(\u001b[38;5;124m\"\u001b[39m\u001b[38;5;124mCorrelation Heatmap\u001b[39m\u001b[38;5;124m\"\u001b[39m)\n\u001b[0;32m      4\u001b[0m plt\u001b[38;5;241m.\u001b[39mshow()\n",
      "File \u001b[1;32m~\\anaconda3\\Lib\\site-packages\\matplotlib\\_api\\__init__.py:217\u001b[0m, in \u001b[0;36mcaching_module_getattr.<locals>.__getattr__\u001b[1;34m(name)\u001b[0m\n\u001b[0;32m    215\u001b[0m \u001b[38;5;28;01mif\u001b[39;00m name \u001b[38;5;129;01min\u001b[39;00m props:\n\u001b[0;32m    216\u001b[0m     \u001b[38;5;28;01mreturn\u001b[39;00m props[name]\u001b[38;5;241m.\u001b[39m\u001b[38;5;21m__get__\u001b[39m(instance)\n\u001b[1;32m--> 217\u001b[0m \u001b[38;5;28;01mraise\u001b[39;00m \u001b[38;5;167;01mAttributeError\u001b[39;00m(\n\u001b[0;32m    218\u001b[0m     \u001b[38;5;124mf\u001b[39m\u001b[38;5;124m\"\u001b[39m\u001b[38;5;124mmodule \u001b[39m\u001b[38;5;132;01m{\u001b[39;00m\u001b[38;5;28mcls\u001b[39m\u001b[38;5;241m.\u001b[39m\u001b[38;5;18m__module__\u001b[39m\u001b[38;5;132;01m!r}\u001b[39;00m\u001b[38;5;124m has no attribute \u001b[39m\u001b[38;5;132;01m{\u001b[39;00mname\u001b[38;5;132;01m!r}\u001b[39;00m\u001b[38;5;124m\"\u001b[39m)\n",
      "\u001b[1;31mAttributeError\u001b[0m: module 'matplotlib' has no attribute 'title'"
     ]
    },
    {
     "data": {
      "image/png": "[encoded data removed]",
      "text/plain": [
       "<Figure size 640x480 with 2 Axes>"
      ]
     },
     "metadata": {},
     "output_type": "display_data"
    }
   ],
   "source": [
    "correlation_matrix = numerical_df.corr()\n",
    "sns.heatmap(correlation_matrix, annot=True)\n",
    "plt.title(\"Correlation Heatmap\")\n",
    "plt.show()"
   ]
  },
  {
   "cell_type": "markdown",
   "id": "b898c6cc",
   "metadata": {},
   "source": [
    "##### 10. Visualize the distribution of the Salary and Years_of_Experience columns"
   ]
  },
  {
   "cell_type": "code",
   "execution_count": 52,
   "id": "136d6718",
   "metadata": {},
   "outputs": [
    {
     "ename": "AttributeError",
     "evalue": "module 'matplotlib' has no attribute 'title'",
     "output_type": "error",
     "traceback": [
      "\u001b[1;31m---------------------------------------------------------------------------\u001b[0m",
      "\u001b[1;31mAttributeError\u001b[0m                            Traceback (most recent call last)",
      "Cell \u001b[1;32mIn[52], line 2\u001b[0m\n\u001b[0;32m      1\u001b[0m sns\u001b[38;5;241m.\u001b[39mhistplot(df[\u001b[38;5;124m\"\u001b[39m\u001b[38;5;124mSalary\u001b[39m\u001b[38;5;124m\"\u001b[39m], kde\u001b[38;5;241m=\u001b[39m\u001b[38;5;28;01mTrue\u001b[39;00m, color\u001b[38;5;241m=\u001b[39m\u001b[38;5;124m\"\u001b[39m\u001b[38;5;124mred\u001b[39m\u001b[38;5;124m\"\u001b[39m, bins\u001b[38;5;241m=\u001b[39m\u001b[38;5;241m10\u001b[39m)\n\u001b[1;32m----> 2\u001b[0m plt\u001b[38;5;241m.\u001b[39mtitle(\u001b[38;5;124m\"\u001b[39m\u001b[38;5;124mDistribution of Salary\u001b[39m\u001b[38;5;124m\"\u001b[39m)\n\u001b[0;32m      3\u001b[0m plt\u001b[38;5;241m.\u001b[39mxlabel(\u001b[38;5;124m\"\u001b[39m\u001b[38;5;124mSalary\u001b[39m\u001b[38;5;124m\"\u001b[39m)\n\u001b[0;32m      4\u001b[0m plt\u001b[38;5;241m.\u001b[39mylabel(\u001b[38;5;124m\"\u001b[39m\u001b[38;5;124mFrequency\u001b[39m\u001b[38;5;124m\"\u001b[39m)\n",
      "File \u001b[1;32m~\\anaconda3\\Lib\\site-packages\\matplotlib\\_api\\__init__.py:217\u001b[0m, in \u001b[0;36mcaching_module_getattr.<locals>.__getattr__\u001b[1;34m(name)\u001b[0m\n\u001b[0;32m    215\u001b[0m \u001b[38;5;28;01mif\u001b[39;00m name \u001b[38;5;129;01min\u001b[39;00m props:\n\u001b[0;32m    216\u001b[0m     \u001b[38;5;28;01mreturn\u001b[39;00m props[name]\u001b[38;5;241m.\u001b[39m\u001b[38;5;21m__get__\u001b[39m(instance)\n\u001b[1;32m--> 217\u001b[0m \u001b[38;5;28;01mraise\u001b[39;00m \u001b[38;5;167;01mAttributeError\u001b[39;00m(\n\u001b[0;32m    218\u001b[0m     \u001b[38;5;124mf\u001b[39m\u001b[38;5;124m\"\u001b[39m\u001b[38;5;124mmodule \u001b[39m\u001b[38;5;132;01m{\u001b[39;00m\u001b[38;5;28mcls\u001b[39m\u001b[38;5;241m.\u001b[39m\u001b[38;5;18m__module__\u001b[39m\u001b[38;5;132;01m!r}\u001b[39;00m\u001b[38;5;124m has no attribute \u001b[39m\u001b[38;5;132;01m{\u001b[39;00mname\u001b[38;5;132;01m!r}\u001b[39;00m\u001b[38;5;124m\"\u001b[39m)\n",
      "\u001b[1;31mAttributeError\u001b[0m: module 'matplotlib' has no attribute 'title'"
     ]
    },
    {
     "data": {
      "image/png": "[encoded data removed]",
      "text/plain": [
       "<Figure size 640x480 with 1 Axes>"
      ]
     },
     "metadata": {},
     "output_type": "display_data"
    }
   ],
   "source": [
    "sns.histplot(df[\"Salary\"], kde=True, color=\"red\", bins=10)\n",
    "plt.title(\"Distribution of Salary\")\n",
    "plt.xlabel(\"Salary\")\n",
    "plt.ylabel(\"Frequency\")\n",
    "plt.show()"
   ]
  },
  {
   "cell_type": "code",
   "execution_count": 54,
   "id": "989ff581",
   "metadata": {},
   "outputs": [
    {
     "ename": "AttributeError",
     "evalue": "module 'matplotlib' has no attribute 'title'",
     "output_type": "error",
     "traceback": [
      "\u001b[1;31m---------------------------------------------------------------------------\u001b[0m",
      "\u001b[1;31mAttributeError\u001b[0m                            Traceback (most recent call last)",
      "Cell \u001b[1;32mIn[54], line 2\u001b[0m\n\u001b[0;32m      1\u001b[0m sns\u001b[38;5;241m.\u001b[39mhistplot(df[\u001b[38;5;124m\"\u001b[39m\u001b[38;5;124mYears_of_Experience\u001b[39m\u001b[38;5;124m\"\u001b[39m], kde\u001b[38;5;241m=\u001b[39m\u001b[38;5;28;01mTrue\u001b[39;00m, color\u001b[38;5;241m=\u001b[39m\u001b[38;5;124m\"\u001b[39m\u001b[38;5;124mblack\u001b[39m\u001b[38;5;124m\"\u001b[39m, bins\u001b[38;5;241m=\u001b[39m\u001b[38;5;241m10\u001b[39m)\n\u001b[1;32m----> 2\u001b[0m plt\u001b[38;5;241m.\u001b[39mtitle(\u001b[38;5;124m\"\u001b[39m\u001b[38;5;124mDistribution of Years_of_Experience\u001b[39m\u001b[38;5;124m\"\u001b[39m)\n\u001b[0;32m      3\u001b[0m plt\u001b[38;5;241m.\u001b[39mxlabel(\u001b[38;5;124m\"\u001b[39m\u001b[38;5;124mYears_of_Experience\u001b[39m\u001b[38;5;124m\"\u001b[39m)\n\u001b[0;32m      4\u001b[0m plt\u001b[38;5;241m.\u001b[39mylabel(\u001b[38;5;124m\"\u001b[39m\u001b[38;5;124mFrequency\u001b[39m\u001b[38;5;124m\"\u001b[39m)\n",
      "File \u001b[1;32m~\\anaconda3\\Lib\\site-packages\\matplotlib\\_api\\__init__.py:217\u001b[0m, in \u001b[0;36mcaching_module_getattr.<locals>.__getattr__\u001b[1;34m(name)\u001b[0m\n\u001b[0;32m    215\u001b[0m \u001b[38;5;28;01mif\u001b[39;00m name \u001b[38;5;129;01min\u001b[39;00m props:\n\u001b[0;32m    216\u001b[0m     \u001b[38;5;28;01mreturn\u001b[39;00m props[name]\u001b[38;5;241m.\u001b[39m\u001b[38;5;21m__get__\u001b[39m(instance)\n\u001b[1;32m--> 217\u001b[0m \u001b[38;5;28;01mraise\u001b[39;00m \u001b[38;5;167;01mAttributeError\u001b[39;00m(\n\u001b[0;32m    218\u001b[0m     \u001b[38;5;124mf\u001b[39m\u001b[38;5;124m\"\u001b[39m\u001b[38;5;124mmodule \u001b[39m\u001b[38;5;132;01m{\u001b[39;00m\u001b[38;5;28mcls\u001b[39m\u001b[38;5;241m.\u001b[39m\u001b[38;5;18m__module__\u001b[39m\u001b[38;5;132;01m!r}\u001b[39;00m\u001b[38;5;124m has no attribute \u001b[39m\u001b[38;5;132;01m{\u001b[39;00mname\u001b[38;5;132;01m!r}\u001b[39;00m\u001b[38;5;124m\"\u001b[39m)\n",
      "\u001b[1;31mAttributeError\u001b[0m: module 'matplotlib' has no attribute 'title'"
     ]
    },
    {
     "data": {
      "image/png": "[encoded data removed]",
      "text/plain": [
       "<Figure size 640x480 with 1 Axes>"
      ]
     },
     "metadata": {},
     "output_type": "display_data"
    }
   ],
   "source": [
    "sns.histplot(df[\"Years_of_Experience\"], kde=True, color=\"black\", bins=10)\n",
    "plt.title(\"Distribution of Years_of_Experience\")\n",
    "plt.xlabel(\"Years_of_Experience\")\n",
    "plt.ylabel(\"Frequency\")\n",
    "plt.show()"
   ]
  },
  {
   "cell_type": "markdown",
   "id": "2f92d5f5",
   "metadata": {},
   "source": [
    "##### 11. Check the skewness of the Salary column."
   ]
  },
  {
   "cell_type": "code",
   "execution_count": 57,
   "id": "ce1c0291",
   "metadata": {},
   "outputs": [
    {
     "data": {
      "text/plain": [
       "-0.17756873972745757"
      ]
     },
     "execution_count": 57,
     "metadata": {},
     "output_type": "execute_result"
    }
   ],
   "source": [
    "df[\"Salary\"].skew()"
   ]
  },
  {
   "cell_type": "markdown",
   "id": "d82ff598",
   "metadata": {},
   "source": [
    "##### 12. Use boxplots to identify outliers in Age and Salary columns"
   ]
  },
  {
   "cell_type": "code",
   "execution_count": 60,
   "id": "ac52e57b",
   "metadata": {},
   "outputs": [
    {
     "data": {
      "text/plain": [
       "<Axes: ylabel='Age'>"
      ]
     },
     "execution_count": 60,
     "metadata": {},
     "output_type": "execute_result"
    },
    {
     "data": {
      "image/png": "[encoded data removed]",
      "text/plain": [
       "<Figure size 640x480 with 1 Axes>"
      ]
     },
     "metadata": {},
     "output_type": "display_data"
    }
   ],
   "source": [
    "sns.boxplot(df['Age'])"
   ]
  },
  {
   "cell_type": "code",
   "execution_count": 62,
   "id": "bb7c5670-43ce-4f4d-9627-713a545af200",
   "metadata": {},
   "outputs": [
    {
     "data": {
      "text/plain": [
       "<Axes: ylabel='Salary'>"
      ]
     },
     "execution_count": 62,
     "metadata": {},
     "output_type": "execute_result"
    },
    {
     "data": {
      "image/png": "[encoded data removed]",
      "text/plain": [
       "<Figure size 640x480 with 1 Axes>"
      ]
     },
     "metadata": {},
     "output_type": "display_data"
    }
   ],
   "source": [
    "sns.boxplot(df['Salary'])"
   ]
  },
  {
   "cell_type": "markdown",
   "id": "e0798674",
   "metadata": {},
   "source": [
    "##### 13. Compute quantiles (25%, 50%, 75%), IQR, lower tail, upper tail values for the Salary column"
   ]
  },
  {
   "cell_type": "code",
   "execution_count": 65,
   "id": "aec105c0",
   "metadata": {},
   "outputs": [
    {
     "data": {
      "text/plain": [
       "42608.910084179326"
      ]
     },
     "execution_count": 65,
     "metadata": {},
     "output_type": "execute_result"
    }
   ],
   "source": [
    "q1=df['Salary'].quantile(0.25)\n",
    "q1"
   ]
  },
  {
   "cell_type": "code",
   "execution_count": 67,
   "id": "2601bf58-0227-441b-92cc-abb296a9038b",
   "metadata": {},
   "outputs": [
    {
     "data": {
      "text/plain": [
       "50081.617727686695"
      ]
     },
     "execution_count": 67,
     "metadata": {},
     "output_type": "execute_result"
    }
   ],
   "source": [
    "q2=df['Salary'].quantile(0.50)\n",
    "q2"
   ]
  },
  {
   "cell_type": "code",
   "execution_count": 69,
   "id": "e3191cef",
   "metadata": {},
   "outputs": [
    {
     "data": {
      "text/plain": [
       "58499.21664146862"
      ]
     },
     "execution_count": 69,
     "metadata": {},
     "output_type": "execute_result"
    }
   ],
   "source": [
    "q3=df['Salary'].quantile(0.75)\n",
    "q3"
   ]
  },
  {
   "cell_type": "code",
   "execution_count": 71,
   "id": "4fec09e7-3e08-45e0-9fe5-4086b9166e74",
   "metadata": {},
   "outputs": [
    {
     "data": {
      "text/plain": [
       "15890.306557289296"
      ]
     },
     "execution_count": 71,
     "metadata": {},
     "output_type": "execute_result"
    }
   ],
   "source": [
    "IQR=q3-q1\n",
    "IQR"
   ]
  },
  {
   "cell_type": "code",
   "execution_count": 73,
   "id": "1bac003a-6cd6-4114-a07f-65bd4f8e0e13",
   "metadata": {},
   "outputs": [
    {
     "data": {
      "text/plain": [
       "18773.450248245383"
      ]
     },
     "execution_count": 73,
     "metadata": {},
     "output_type": "execute_result"
    }
   ],
   "source": [
    "lower_tail=q1-(1.5)*IQR\n",
    "lower_tail"
   ]
  },
  {
   "cell_type": "code",
   "execution_count": 75,
   "id": "7909cbcf-8d2c-4242-8bbc-d96fbbe80657",
   "metadata": {},
   "outputs": [
    {
     "data": {
      "text/plain": [
       "82334.67647740257"
      ]
     },
     "execution_count": 75,
     "metadata": {},
     "output_type": "execute_result"
    }
   ],
   "source": [
    "upper_tail=q3+(1.5)*IQR\n",
    "upper_tail"
   ]
  },
  {
   "cell_type": "markdown",
   "id": "6a904848",
   "metadata": {},
   "source": [
    "##### 14. Probability of employees in IT with a rating above 3"
   ]
  },
  {
   "cell_type": "code",
   "execution_count": 96,
   "id": "658c8174-a499-4512-ae0c-bfe66ce9239b",
   "metadata": {},
   "outputs": [
    {
     "data": {
      "text/plain": [
       "4.545454545454546"
      ]
     },
     "execution_count": 96,
     "metadata": {},
     "output_type": "execute_result"
    }
   ],
   "source": [
    "IT = df[df[\"Department\"] == \"IT\"]\n",
    "above_3R=df[\"Rating\"]>3\n",
    "probability_IT =len(above_3R)/len(IT)\n",
    "probability_IT"
   ]
  },
  {
   "cell_type": "markdown",
   "id": "10c05aed-ef77-4824-bd96-f24b3a0bdda0",
   "metadata": {},
   "source": [
    "##### 15. Check for Normality of Age/Salary column by hypothesis testing"
   ]
  },
  {
   "cell_type": "code",
   "execution_count": 104,
   "id": "98fcc884-91ca-413f-8249-6990cae57fdc",
   "metadata": {},
   "outputs": [
    {
     "name": "stdout",
     "output_type": "stream",
     "text": [
      "Age is not normally distributed (reject H0).\n",
      "Salary is normally distributed (fail to reject H0).\n"
     ]
    }
   ],
   "source": [
    "stat_age, p_value_age = stats.shapiro(df[\"Age\"])\n",
    "stat_salary, p_value_salary = stats.shapiro(df[\"Salary\"])\n",
    "alpha = 0.05\n",
    "if p_value_age > alpha:\n",
    "    print(\"Age is normally distributed (fail to reject H0).\")\n",
    "else:\n",
    "    print(\"Age is not normally distributed (reject H0).\")\n",
    "\n",
    "if p_value_salary > alpha:\n",
    "    print(\"Salary is normally distributed (fail to reject H0).\")\n",
    "else:\n",
    "    print(\"Salary is not normally distributed (reject H0).\")"
   ]
  },
  {
   "cell_type": "markdown",
   "id": "19baa983-dfb0-4d03-b8d5-6440b348ee2d",
   "metadata": {},
   "source": [
    "##### 16. Find zscore for Age column"
   ]
  },
  {
   "cell_type": "code",
   "execution_count": 108,
   "id": "eabd1120-061d-4871-91ea-4178377ff620",
   "metadata": {},
   "outputs": [
    {
     "name": "stdout",
     "output_type": "stream",
     "text": [
      "    Age        Salary Department  Years_of_Experience  Rating  Z-Score_Age\n",
      "0    56  47981.538943      Sales                    2       5     1.487884\n",
      "1    46  63977.223746  Marketing                    4       4     0.665394\n",
      "2    32  47051.027751  Marketing                    4       3    -0.486092\n",
      "3    25  40763.986716         IT                    2       4    -1.061835\n",
      "4    38  50081.617728  Marketing                    2       5     0.007402\n",
      "..  ...           ...        ...                  ...     ...          ...\n",
      "95   59  53994.709286  Marketing                    2       1     1.734631\n",
      "96   56  41729.669474      Sales                    2       2     1.487884\n",
      "97   58  64546.068106  Marketing                    3       5     1.652382\n",
      "98   45  24900.803964         HR                    2       2     0.583145\n",
      "99   24  20363.613619         HR                    4       2    -1.144084\n",
      "\n",
      "[100 rows x 6 columns]\n"
     ]
    }
   ],
   "source": [
    "df[\"Z-Score_Age\"] = stats.zscore(df[\"Age\"])\n",
    "print(df)"
   ]
  },
  {
   "cell_type": "markdown",
   "id": "9f816981-d801-4d74-9412-428ea6b12e74",
   "metadata": {},
   "source": [
    "##### 17. check for unique values in Department"
   ]
  },
  {
   "cell_type": "code",
   "execution_count": 112,
   "id": "f31be6df-504c-4690-a4ae-906005863bd4",
   "metadata": {},
   "outputs": [
    {
     "data": {
      "text/plain": [
       "array(['Sales', 'Marketing', 'IT', 'HR'], dtype=object)"
      ]
     },
     "execution_count": 112,
     "metadata": {},
     "output_type": "execute_result"
    }
   ],
   "source": [
    "df['Department'].unique()"
   ]
  },
  {
   "cell_type": "markdown",
   "id": "9382b4ec-59b1-4760-a4b3-4aeb9dbb7cfb",
   "metadata": {},
   "source": [
    "##### 18. check for the count for each department and visualize it "
   ]
  },
  {
   "cell_type": "code",
   "execution_count": 116,
   "id": "bb4ca09e-ecbf-4c88-99f9-1b100b71a44e",
   "metadata": {},
   "outputs": [],
   "source": [
    "department_counts = df[\"Department\"].value_counts()"
   ]
  },
  {
   "cell_type": "code",
   "execution_count": 128,
   "id": "f25e6f07-e4bf-4870-9641-67146b9469e7",
   "metadata": {},
   "outputs": [
    {
     "ename": "AttributeError",
     "evalue": "module 'matplotlib' has no attribute 'title'",
     "output_type": "error",
     "traceback": [
      "\u001b[1;31m---------------------------------------------------------------------------\u001b[0m",
      "\u001b[1;31mAttributeError\u001b[0m                            Traceback (most recent call last)",
      "Cell \u001b[1;32mIn[128], line 2\u001b[0m\n\u001b[0;32m      1\u001b[0m sns\u001b[38;5;241m.\u001b[39mbarplot(x\u001b[38;5;241m=\u001b[39mdepartment_counts\u001b[38;5;241m.\u001b[39mindex, y\u001b[38;5;241m=\u001b[39mdepartment_counts\u001b[38;5;241m.\u001b[39mvalues)\n\u001b[1;32m----> 2\u001b[0m plt\u001b[38;5;241m.\u001b[39mtitle(\u001b[38;5;124m\"\u001b[39m\u001b[38;5;124mEmployee Count by Department\u001b[39m\u001b[38;5;124m\"\u001b[39m)\n\u001b[0;32m      3\u001b[0m plt\u001b[38;5;241m.\u001b[39mxlabel(\u001b[38;5;124m\"\u001b[39m\u001b[38;5;124mDepartment\u001b[39m\u001b[38;5;124m\"\u001b[39m)\n\u001b[0;32m      4\u001b[0m plt\u001b[38;5;241m.\u001b[39mylabel(\u001b[38;5;124m\"\u001b[39m\u001b[38;5;124mCount\u001b[39m\u001b[38;5;124m\"\u001b[39m)\n",
      "File \u001b[1;32m~\\anaconda3\\Lib\\site-packages\\matplotlib\\_api\\__init__.py:217\u001b[0m, in \u001b[0;36mcaching_module_getattr.<locals>.__getattr__\u001b[1;34m(name)\u001b[0m\n\u001b[0;32m    215\u001b[0m \u001b[38;5;28;01mif\u001b[39;00m name \u001b[38;5;129;01min\u001b[39;00m props:\n\u001b[0;32m    216\u001b[0m     \u001b[38;5;28;01mreturn\u001b[39;00m props[name]\u001b[38;5;241m.\u001b[39m\u001b[38;5;21m__get__\u001b[39m(instance)\n\u001b[1;32m--> 217\u001b[0m \u001b[38;5;28;01mraise\u001b[39;00m \u001b[38;5;167;01mAttributeError\u001b[39;00m(\n\u001b[0;32m    218\u001b[0m     \u001b[38;5;124mf\u001b[39m\u001b[38;5;124m\"\u001b[39m\u001b[38;5;124mmodule \u001b[39m\u001b[38;5;132;01m{\u001b[39;00m\u001b[38;5;28mcls\u001b[39m\u001b[38;5;241m.\u001b[39m\u001b[38;5;18m__module__\u001b[39m\u001b[38;5;132;01m!r}\u001b[39;00m\u001b[38;5;124m has no attribute \u001b[39m\u001b[38;5;132;01m{\u001b[39;00mname\u001b[38;5;132;01m!r}\u001b[39;00m\u001b[38;5;124m\"\u001b[39m)\n",
      "\u001b[1;31mAttributeError\u001b[0m: module 'matplotlib' has no attribute 'title'"
     ]
    },
    {
     "data": {
      "image/png": "[encoded data removed]",
      "text/plain": [
       "<Figure size 640x480 with 1 Axes>"
      ]
     },
     "metadata": {},
     "output_type": "display_data"
    }
   ],
   "source": [
    "sns.barplot(x=department_counts.index, y=department_counts.values)\n",
    "plt.title(\"Employee Count by Department\")\n",
    "plt.xlabel(\"Department\")\n",
    "plt.ylabel(\"Count\")\n",
    "plt.show()"
   ]
  },
  {
   "cell_type": "markdown",
   "id": "0cad0e8c-2f2c-413c-8a1c-3d94ff8133c5",
   "metadata": {},
   "source": [
    "##### 19. Encode Departement in numerical data"
   ]
  },
  {
   "cell_type": "code",
   "execution_count": 132,
   "id": "91f430f4-ca7a-43fb-87cd-00864824b03d",
   "metadata": {},
   "outputs": [
    {
     "name": "stderr",
     "output_type": "stream",
     "text": [
      "C:\\Users\\icon\\AppData\\Local\\Temp\\ipykernel_14720\\3193954489.py:1: FutureWarning: Downcasting behavior in `replace` is deprecated and will be removed in a future version. To retain the old behavior, explicitly call `result.infer_objects(copy=False)`. To opt-in to the future behavior, set `pd.set_option('future.no_silent_downcasting', True)`\n",
      "  df['Department']=df['Department'].replace({'Sales':1, 'Marketing':2, 'IT':3, 'HR':4})\n"
     ]
    }
   ],
   "source": [
    "df['Department']=df['Department'].replace({'Sales':1, 'Marketing':2, 'IT':3, 'HR':4})\n"
   ]
  },
  {
   "cell_type": "code",
   "execution_count": 134,
   "id": "987220bc-0dcc-4880-9747-1f1633958f01",
   "metadata": {},
   "outputs": [
    {
     "data": {
      "text/html": [
       "<div>\n",
       "<style scoped>\n",
       "    .dataframe tbody tr th:only-of-type {\n",
       "        vertical-align: middle;\n",
       "    }\n",
       "\n",
       "    .dataframe tbody tr th {\n",
       "        vertical-align: top;\n",
       "    }\n",
       "\n",
       "    .dataframe thead th {\n",
       "        text-align: right;\n",
       "    }\n",
       "</style>\n",
       "<table border=\"1\" class=\"dataframe\">\n",
       "  <thead>\n",
       "    <tr style=\"text-align: right;\">\n",
       "      <th></th>\n",
       "      <th>Age</th>\n",
       "      <th>Salary</th>\n",
       "      <th>Department</th>\n",
       "      <th>Years_of_Experience</th>\n",
       "      <th>Rating</th>\n",
       "      <th>Z-Score_Age</th>\n",
       "    </tr>\n",
       "  </thead>\n",
       "  <tbody>\n",
       "    <tr>\n",
       "      <th>0</th>\n",
       "      <td>56</td>\n",
       "      <td>47981.538943</td>\n",
       "      <td>1</td>\n",
       "      <td>2</td>\n",
       "      <td>5</td>\n",
       "      <td>1.487884</td>\n",
       "    </tr>\n",
       "    <tr>\n",
       "      <th>1</th>\n",
       "      <td>46</td>\n",
       "      <td>63977.223746</td>\n",
       "      <td>2</td>\n",
       "      <td>4</td>\n",
       "      <td>4</td>\n",
       "      <td>0.665394</td>\n",
       "    </tr>\n",
       "    <tr>\n",
       "      <th>2</th>\n",
       "      <td>32</td>\n",
       "      <td>47051.027751</td>\n",
       "      <td>2</td>\n",
       "      <td>4</td>\n",
       "      <td>3</td>\n",
       "      <td>-0.486092</td>\n",
       "    </tr>\n",
       "    <tr>\n",
       "      <th>3</th>\n",
       "      <td>25</td>\n",
       "      <td>40763.986716</td>\n",
       "      <td>3</td>\n",
       "      <td>2</td>\n",
       "      <td>4</td>\n",
       "      <td>-1.061835</td>\n",
       "    </tr>\n",
       "    <tr>\n",
       "      <th>4</th>\n",
       "      <td>38</td>\n",
       "      <td>50081.617728</td>\n",
       "      <td>2</td>\n",
       "      <td>2</td>\n",
       "      <td>5</td>\n",
       "      <td>0.007402</td>\n",
       "    </tr>\n",
       "    <tr>\n",
       "      <th>...</th>\n",
       "      <td>...</td>\n",
       "      <td>...</td>\n",
       "      <td>...</td>\n",
       "      <td>...</td>\n",
       "      <td>...</td>\n",
       "      <td>...</td>\n",
       "    </tr>\n",
       "    <tr>\n",
       "      <th>95</th>\n",
       "      <td>59</td>\n",
       "      <td>53994.709286</td>\n",
       "      <td>2</td>\n",
       "      <td>2</td>\n",
       "      <td>1</td>\n",
       "      <td>1.734631</td>\n",
       "    </tr>\n",
       "    <tr>\n",
       "      <th>96</th>\n",
       "      <td>56</td>\n",
       "      <td>41729.669474</td>\n",
       "      <td>1</td>\n",
       "      <td>2</td>\n",
       "      <td>2</td>\n",
       "      <td>1.487884</td>\n",
       "    </tr>\n",
       "    <tr>\n",
       "      <th>97</th>\n",
       "      <td>58</td>\n",
       "      <td>64546.068106</td>\n",
       "      <td>2</td>\n",
       "      <td>3</td>\n",
       "      <td>5</td>\n",
       "      <td>1.652382</td>\n",
       "    </tr>\n",
       "    <tr>\n",
       "      <th>98</th>\n",
       "      <td>45</td>\n",
       "      <td>24900.803964</td>\n",
       "      <td>4</td>\n",
       "      <td>2</td>\n",
       "      <td>2</td>\n",
       "      <td>0.583145</td>\n",
       "    </tr>\n",
       "    <tr>\n",
       "      <th>99</th>\n",
       "      <td>24</td>\n",
       "      <td>20363.613619</td>\n",
       "      <td>4</td>\n",
       "      <td>4</td>\n",
       "      <td>2</td>\n",
       "      <td>-1.144084</td>\n",
       "    </tr>\n",
       "  </tbody>\n",
       "</table>\n",
       "<p>100 rows × 6 columns</p>\n",
       "</div>"
      ],
      "text/plain": [
       "    Age        Salary  Department  Years_of_Experience  Rating  Z-Score_Age\n",
       "0    56  47981.538943           1                    2       5     1.487884\n",
       "1    46  63977.223746           2                    4       4     0.665394\n",
       "2    32  47051.027751           2                    4       3    -0.486092\n",
       "3    25  40763.986716           3                    2       4    -1.061835\n",
       "4    38  50081.617728           2                    2       5     0.007402\n",
       "..  ...           ...         ...                  ...     ...          ...\n",
       "95   59  53994.709286           2                    2       1     1.734631\n",
       "96   56  41729.669474           1                    2       2     1.487884\n",
       "97   58  64546.068106           2                    3       5     1.652382\n",
       "98   45  24900.803964           4                    2       2     0.583145\n",
       "99   24  20363.613619           4                    4       2    -1.144084\n",
       "\n",
       "[100 rows x 6 columns]"
      ]
     },
     "execution_count": 134,
     "metadata": {},
     "output_type": "execute_result"
    }
   ],
   "source": []
  },
  {
   "cell_type": "markdown",
   "id": "6e143e88-eaff-42d1-91ed-1516ee4234ed",
   "metadata": {},
   "source": [
    "##### splitting of Data into independant(x) and dependant(y) features"
   ]
  },
  {
   "cell_type": "code",
   "execution_count": 158,
   "id": "d9962966-be6b-47c2-9e61-82f867eb2034",
   "metadata": {},
   "outputs": [],
   "source": [
    "X = df.iloc[: ,:4]\n",
    "\n",
    "y = df[\"Rating\"]\n"
   ]
  },
  {
   "cell_type": "markdown",
   "id": "9bdf755e-d32d-4f7d-a455-0e8ac3ee9034",
   "metadata": {},
   "source": [
    "##### perform train test split"
   ]
  },
  {
   "cell_type": "code",
   "execution_count": 169,
   "id": "55bee518-e8f2-4140-bd3c-99a635cb4735",
   "metadata": {},
   "outputs": [
    {
     "name": "stdout",
     "output_type": "stream",
     "text": [
      "Training Data (X_train):\n",
      "    Age        Salary  Department  Years_of_Experience\n",
      "36   56  46068.497801           2                    3\n",
      "6    36  31110.136557           2                    2\n",
      "78   46  50081.617728           3                    2\n",
      "66   32  75904.742280           2                    4\n",
      "65   48  67763.942734           2                    4\n",
      "..  ...           ...         ...                  ...\n",
      "53   21  49671.482653           3                    3\n",
      "51   53  65164.886369           3                    3\n",
      "26   44  58459.775736           2                    3\n",
      "94   22  73206.077611           4                    3\n",
      "73   35  49737.429508           4                    4\n",
      "\n",
      "[80 rows x 4 columns]\n",
      "\n",
      "Test Data (X_test):\n",
      "    Age        Salary  Department  Years_of_Experience\n",
      "96   56  41729.669474           1                    2\n",
      "56   59  40900.074554           4                    2\n",
      "62   27  67202.185847           3                    2\n",
      "64   31  20014.890300           2                    3\n",
      "81   42  60290.039019           3                    3\n",
      "35   26  59009.430627           2                    4\n",
      "93   50  50081.617728           3                    4\n",
      "14   20  33431.395709           4                    2\n",
      "90   25  39949.023299           1                    2\n",
      "20   19  53571.805382           4                    4\n",
      "72   33  54273.917965           2                    2\n",
      "31   20  38535.842663           2                    3\n",
      "42   43  51524.146872           2                    3\n",
      "80   18  45002.523637           3                    3\n",
      "24   39  51629.045954           2                    2\n",
      "59   35  54138.828021           4                    4\n",
      "4    38  50081.617728           2                    2\n",
      "71   38  42571.167676           4                    4\n",
      "50   34  50081.617728           3                    2\n",
      "55   23  37344.746366           2                    3\n"
     ]
    }
   ],
   "source": [
    "X_train, X_test, y_train, y_test = train_test_split(X, y, test_size=0.2)\n",
    "print(\"Training Data (X_train):\")\n",
    "print(X_train)\n",
    "print(\"\\nTest Data (X_test):\")\n",
    "print(X_test)"
   ]
  },
  {
   "cell_type": "code",
   "execution_count": 171,
   "id": "25c33e16-8f5e-4812-98f6-6b4d6f0330e0",
   "metadata": {},
   "outputs": [
    {
     "data": {
      "text/plain": [
       "36    5\n",
       "6     4\n",
       "78    3\n",
       "66    1\n",
       "65    2\n",
       "     ..\n",
       "53    5\n",
       "51    2\n",
       "26    5\n",
       "94    3\n",
       "73    4\n",
       "Name: Rating, Length: 80, dtype: int64"
      ]
     },
     "execution_count": 171,
     "metadata": {},
     "output_type": "execute_result"
    }
   ],
   "source": [
    "y_train"
   ]
  },
  {
   "cell_type": "code",
   "execution_count": 173,
   "id": "2b4f7059-516b-4922-a255-7ff4b795b1c2",
   "metadata": {},
   "outputs": [
    {
     "data": {
      "text/plain": [
       "96    2\n",
       "56    4\n",
       "62    5\n",
       "64    4\n",
       "81    3\n",
       "35    3\n",
       "93    2\n",
       "14    5\n",
       "90    2\n",
       "20    1\n",
       "72    3\n",
       "31    5\n",
       "42    4\n",
       "80    4\n",
       "24    2\n",
       "59    3\n",
       "4     5\n",
       "71    2\n",
       "50    5\n",
       "55    2\n",
       "Name: Rating, dtype: int64"
      ]
     },
     "execution_count": 173,
     "metadata": {},
     "output_type": "execute_result"
    }
   ],
   "source": [
    "y_test"
   ]
  },
  {
   "cell_type": "code",
   "execution_count": null,
   "id": "03d6df2f-a597-4980-8c7f-1f30972dadd3",
   "metadata": {},
   "outputs": [],
   "source": []
  }
 ],
 "metadata": {
  "kernelspec": {
   "display_name": "Python 3 (ipykernel)",
   "language": "python",
   "name": "python3"
  },
  "language_info": {
   "codemirror_mode": {
    "name": "ipython",
    "version": 3
   },
   "file_extension": ".py",
   "mimetype": "text/x-python",
   "name": "python",
   "nbconvert_exporter": "python",
   "pygments_lexer": "ipython3",
   "version": "3.12.7"
  }
 },
 "nbformat": 4,
 "nbformat_minor": 5
}
